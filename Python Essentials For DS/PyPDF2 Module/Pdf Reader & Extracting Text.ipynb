{
 "cells": [
  {
   "cell_type": "code",
   "execution_count": 1,
   "id": "9bcb11bd",
   "metadata": {},
   "outputs": [],
   "source": [
    "import PyPDF2"
   ]
  },
  {
   "cell_type": "code",
   "execution_count": 5,
   "id": "6be90289",
   "metadata": {},
   "outputs": [
    {
     "name": "stdout",
     "output_type": "stream",
     "text": [
      "no. of pages: 1\n",
      "MUHAMMAD ASH AR  \n",
      "• Karachi , Gulshan -e-Iqbal block -2 , 75300  . \n",
      "•  asharjaffery7 @gmail.com   \n",
      "•  https://www.linkedin.com/ashar -abbas151214   \n",
      "•  https://github.com/asharj316   \n",
      "•  +92-370-2563343  \n",
      " \n",
      "SKILLS  \n",
      "Programming Languages:    Python (Pandas, NumPy ), Java \n",
      "Databases:    MS SQL Server  \n",
      "BI & Visualization Tools:   Tableau  , MS Excel  , Power Bi  \n",
      " \n",
      "PROJECTS  \n",
      "Hospital ER Operations Analytics Dashboard   \n",
      "● Problem:  Hospital emergency rooms face challenges in tracking patient wait times, admission rates, and resource allocation \n",
      "efficiently.  \n",
      "● Action:  Designed an interactive Excel dashboard  using Power Query to clean and transform raw ER data, Power Pivot to model \n",
      "relationships, and DAX to calculate KPIs like average wait time (35 mins) and admission rates (40%). Automated reports with \n",
      "VBA to refresh data with one click.  \n",
      "● Result:  Enabled real -time analysis of 500+ patient records, identifying bottlenecks (e.g., Radiology delays) and improving staff \n",
      "scheduling decisions . \n",
      " \n",
      "Data -Driven Sales Insights Dashboard with Macro Automation   \n",
      "● Problem:  The sales department was struggling with time -consuming manual reporting processes in Excel, which often led to \n",
      "outdated information and delayed business decisions. Team members spent hours each week updating spreadsheets and recreating \n",
      "the same reports, l eaving less time for actual analysis . \n",
      "● Action:  To solve this, I developed an automated sales dashboard using Excel with advanced PivotTables and VBA macros. The \n",
      "solution included one -click data refresh functionality, dynamic filtering by region and product category, and automatic report \n",
      "generation. I i mplemented conditional formatting to highlight key trends and performance outliers, making the data instantly \n",
      "actionable . \n",
      "● Result:  This automated dashboard reduced the team's weekly reporting time by 70%, saving approximately 15 hours per month \n",
      "previously spent on manual updates. Decision -making improved as managers could access real -time sales data, and the \n",
      "elimination of manual dat a handling reduced errors by an estimated 90%. The tool became the department's go -to resource for \n",
      "monthly performance reviews . \n",
      " \n",
      "SOFTWARE SKILLS  AND T ECHNICAL SKILLS  \n",
      "● Problem Solving – Communication Skills – Project Management . \n",
      "● Quick Learner – Critical Thinking – Teamwork Skills . \n",
      "● Data Cleaning – Visualization  – Manipulation – Analysis.  \n",
      " \n",
      "EDUCATION  \n",
      "Sir Syed University Of Engineering And Technology , Karachi, Sindh . Oct 2024 \n",
      "Bachelor in Soft ware  Engineering.  \n",
      " \n",
      "CAREER GOALS  \n",
      "Aspiring Data Analyst aiming to gain practical experience  and grow into a Data Engineer role.  \n"
     ]
    }
   ],
   "source": [
    "with open (\"D:\\M.Ashar Data Analyst CV-1.pdf\",\"rb\") as f:\n",
    "    file_r=PyPDF2.PdfReader(f)\n",
    "    print(\"no. of pages:\",len(file_r.pages))\n",
    "    f_p=file_r.pages[0]\n",
    "    print(f_p.extract_text())\n",
    "   \n"
   ]
  }
 ],
 "metadata": {
  "kernelspec": {
   "display_name": "Python 3",
   "language": "python",
   "name": "python3"
  },
  "language_info": {
   "codemirror_mode": {
    "name": "ipython",
    "version": 3
   },
   "file_extension": ".py",
   "mimetype": "text/x-python",
   "name": "python",
   "nbconvert_exporter": "python",
   "pygments_lexer": "ipython3",
   "version": "3.11.9"
  }
 },
 "nbformat": 4,
 "nbformat_minor": 5
}
