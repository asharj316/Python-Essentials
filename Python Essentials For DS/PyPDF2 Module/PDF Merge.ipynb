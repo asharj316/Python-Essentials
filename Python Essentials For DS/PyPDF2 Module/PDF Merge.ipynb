{
 "cells": [
  {
   "cell_type": "code",
   "execution_count": 6,
   "id": "30cc8c3d",
   "metadata": {},
   "outputs": [],
   "source": [
    "import PyPDF2"
   ]
  },
  {
   "cell_type": "code",
   "execution_count": 7,
   "id": "4b9ed2d3",
   "metadata": {},
   "outputs": [],
   "source": [
    "f_w=PyPDF2.PdfWriter()\n",
    "for file in [\"D:\\java_cheat_sheet.pdf\",\"D:\\Java_Complete_Notes.pdf\"]:\n",
    "    f_w.append(file)\n",
    "    f_w.write(\"D:\\Java Merged.pdf\")\n"
   ]
  }
 ],
 "metadata": {
  "kernelspec": {
   "display_name": "Python 3",
   "language": "python",
   "name": "python3"
  },
  "language_info": {
   "codemirror_mode": {
    "name": "ipython",
    "version": 3
   },
   "file_extension": ".py",
   "mimetype": "text/x-python",
   "name": "python",
   "nbconvert_exporter": "python",
   "pygments_lexer": "ipython3",
   "version": "3.11.9"
  }
 },
 "nbformat": 4,
 "nbformat_minor": 5
}
