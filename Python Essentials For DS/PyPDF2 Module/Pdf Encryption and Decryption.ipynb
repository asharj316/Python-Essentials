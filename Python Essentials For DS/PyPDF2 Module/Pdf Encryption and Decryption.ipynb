{
 "cells": [
  {
   "cell_type": "code",
   "execution_count": 19,
   "id": "bd03acd7",
   "metadata": {},
   "outputs": [],
   "source": [
    "import PyPDF2"
   ]
  },
  {
   "cell_type": "code",
   "execution_count": 20,
   "id": "b2eb53b5",
   "metadata": {},
   "outputs": [],
   "source": [
    "with open (\"D:\\M.Ashar Data Analyst CV.pdf\",\"rb\") as f:\n",
    "    file_reader=PyPDF2.PdfReader(f)\n",
    "    file_writer=PyPDF2.PdfWriter()\n",
    "    file_writer.append(file_reader)\n",
    "    file_writer.encrypt(\"callmeCJ\")\n",
    "    file_writer.write(\"D:\\M.Ashar Data Analyst Encrypted.pdf\")"
   ]
  },
  {
   "cell_type": "code",
   "execution_count": 21,
   "id": "ca577898",
   "metadata": {},
   "outputs": [],
   "source": [
    "with open (\"D:\\M.Ashar Data Analyst Encrypted.pdf\",\"rb\") as f_e:\n",
    "    f_e_reader=PyPDF2.PdfReader(f_e)\n",
    "    f_e_reader.decrypt(\"callmeCJ\")\n",
    "    f_e_writer=PyPDF2.PdfWriter()\n",
    "    f_e_writer.append(f_e_reader)\n",
    "    f_e_writer.write(\"D:\\M.Ashar Data Analyst Decrypted.pdf\")\n"
   ]
  }
 ],
 "metadata": {
  "kernelspec": {
   "display_name": "Python 3",
   "language": "python",
   "name": "python3"
  },
  "language_info": {
   "codemirror_mode": {
    "name": "ipython",
    "version": 3
   },
   "file_extension": ".py",
   "mimetype": "text/x-python",
   "name": "python",
   "nbconvert_exporter": "python",
   "pygments_lexer": "ipython3",
   "version": "3.11.9"
  }
 },
 "nbformat": 4,
 "nbformat_minor": 5
}
